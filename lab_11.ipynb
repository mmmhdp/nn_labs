{
 "cells": [
  {
   "cell_type": "code",
   "execution_count": null,
   "metadata": {
    "_kg_hide-output": false,
    "execution": {
     "iopub.execute_input": "2024-04-18T17:06:51.928361Z",
     "iopub.status.busy": "2024-04-18T17:06:51.927435Z",
     "iopub.status.idle": "2024-04-18T17:07:44.486860Z",
     "shell.execute_reply": "2024-04-18T17:07:44.485577Z",
     "shell.execute_reply.started": "2024-04-18T17:06:51.928327Z"
    },
    "id": "GJxKjoHTR5fk",
    "outputId": "cf9209d1-1dce-4bf3-eb9d-075c042dba61"
   },
   "outputs": [],
   "source": [
    "from kaggle_secrets import UserSecretsClient\n",
    "user_secrets = UserSecretsClient()\n",
    "\n",
    "class Userdata():\n",
    "    def __init__(self):\n",
    "        self.secrets = {\n",
    "            \"KAGGLE_API_KEY\":user_secrets.get_secret(\"KAGGLE_API_KEY\"),\n",
    "            \"KAGGLE_USER_NAME\":user_secrets.get_secret(\"KAGGLE_USER_NAME\"),\n",
    "            \"HUGG_API_TOKEN\":user_secrets.get_secret(\"HUGG_API_TOKEN\"),\n",
    "            \"WandB_API_KEY\":user_secrets.get_secret(\"WandB_API_KEY\"),\n",
    "        }\n",
    "        \n",
    "    def get(self, secret_name):\n",
    "        return self.secrets[secret_name]\n",
    "userdata = Userdata()\n",
    "\n",
    "init = True\n",
    "\n",
    "if init:\n",
    "#     from google.colab import userdata\n",
    "    \n",
    "    !rm -rf /kaggle/working/*    \n",
    "    \n",
    "    !rm -rf /root/.kaggle/\n",
    "\n",
    "    !mkdir ~/.kaggle\n",
    "    !touch ~/.kaggle/kaggle.json\n",
    "\n",
    "    api_token = {\n",
    "        \"username\":userdata.get(\"KAGGLE_USER_NAME\"),\n",
    "        \"key\":userdata.get(\"KAGGLE_API_KEY\"),\n",
    "    }\n",
    "\n",
    "    import json\n",
    "\n",
    "    with open('/root/.kaggle/kaggle.json', 'w') as file:\n",
    "        json.dump(api_token, file)\n",
    "\n",
    "    !chmod 600 ~/.kaggle/kaggle.json\n",
    "\n",
    "    !rm -rf /kaggle/working/*\n",
    "    !kaggle datasets download -d michaelbryantds/78k-music-album-reviews\n",
    "    !unzip /kaggle/working/78k-music-album-reviews.zip\n",
    "\n",
    "\n",
    "    !pip install datasets transformers tqdm transformers[torch]\n",
    "    !pip install accelerate -U\n",
    "    import subprocess\n",
    "    !pip install wandb\n",
    "    !wandb login 5b2ceb8edc2e4f40870207591750b6a38db675fc\n",
    "    subprocess.run([\"wandb\",\"login\", userdata.get(\"WandB_API_KEY\")]) \n"
   ]
  },
  {
   "cell_type": "code",
   "execution_count": null,
   "metadata": {
    "execution": {
     "iopub.execute_input": "2024-04-18T17:07:44.490371Z",
     "iopub.status.busy": "2024-04-18T17:07:44.489944Z",
     "iopub.status.idle": "2024-04-18T17:07:44.498788Z",
     "shell.execute_reply": "2024-04-18T17:07:44.497732Z",
     "shell.execute_reply.started": "2024-04-18T17:07:44.490325Z"
    },
    "id": "hH90qPSAVaFP"
   },
   "outputs": [],
   "source": [
    "import pandas as pd\n",
    "import numpy as np\n",
    "import torch as tr\n",
    "import matplotlib.pyplot as plt\n",
    "from transformers import (\n",
    "    pipeline,\n",
    "    AutoTokenizer,\n",
    "    AutoConfig,\n",
    "    DataCollatorWithPadding,\n",
    "    AutoModelForSequenceClassification,\n",
    "    TrainingArguments,\n",
    "    Trainer,\n",
    ")\n",
    "from datasets import (\n",
    "    Dataset,\n",
    "    load_metric,\n",
    ")\n",
    "from huggingface_hub import login"
   ]
  },
  {
   "cell_type": "code",
   "execution_count": null,
   "metadata": {
    "execution": {
     "iopub.execute_input": "2024-04-18T17:07:44.500462Z",
     "iopub.status.busy": "2024-04-18T17:07:44.500100Z",
     "iopub.status.idle": "2024-04-18T17:07:44.796701Z",
     "shell.execute_reply": "2024-04-18T17:07:44.795460Z",
     "shell.execute_reply.started": "2024-04-18T17:07:44.500427Z"
    },
    "id": "ClE0q-rrSQKa",
    "outputId": "84673336-1e74-4dd1-e0bf-5231f99db8b8"
   },
   "outputs": [],
   "source": [
    "login(token=userdata.get(\"HUGG_API_TOKEN\"))"
   ]
  },
  {
   "cell_type": "code",
   "execution_count": null,
   "metadata": {
    "execution": {
     "iopub.execute_input": "2024-04-18T17:07:44.799058Z",
     "iopub.status.busy": "2024-04-18T17:07:44.798340Z",
     "iopub.status.idle": "2024-04-18T17:07:44.804001Z",
     "shell.execute_reply": "2024-04-18T17:07:44.802985Z",
     "shell.execute_reply.started": "2024-04-18T17:07:44.799023Z"
    },
    "id": "cV657joBXh90"
   },
   "outputs": [],
   "source": [
    "DATA_FILE = \"/kaggle/working/music_album_reviews.csv\""
   ]
  },
  {
   "cell_type": "code",
   "execution_count": null,
   "metadata": {
    "execution": {
     "iopub.execute_input": "2024-04-18T17:07:44.807899Z",
     "iopub.status.busy": "2024-04-18T17:07:44.807431Z",
     "iopub.status.idle": "2024-04-18T17:07:45.676031Z",
     "shell.execute_reply": "2024-04-18T17:07:45.674883Z",
     "shell.execute_reply.started": "2024-04-18T17:07:44.807861Z"
    },
    "id": "jLvx7CDgzoyR"
   },
   "outputs": [],
   "source": [
    "df = pd.read_csv(DATA_FILE)"
   ]
  },
  {
   "cell_type": "code",
   "execution_count": null,
   "metadata": {
    "execution": {
     "iopub.execute_input": "2024-04-18T17:07:45.679684Z",
     "iopub.status.busy": "2024-04-18T17:07:45.678531Z",
     "iopub.status.idle": "2024-04-18T17:07:45.697422Z",
     "shell.execute_reply": "2024-04-18T17:07:45.695793Z",
     "shell.execute_reply.started": "2024-04-18T17:07:45.679638Z"
    },
    "id": "lcMH1zpCzgN4",
    "outputId": "e6892de1-9313-49ed-de46-d8b975d9a1d4"
   },
   "outputs": [],
   "source": [
    "df.head()\n",
    "# df.value_counts()\n",
    "# df.columns\n",
    "# df[:1]\n",
    "# df[\"Rating\"].isna().sum()"
   ]
  },
  {
   "cell_type": "code",
   "execution_count": null,
   "metadata": {
    "execution": {
     "iopub.execute_input": "2024-04-18T17:07:45.699600Z",
     "iopub.status.busy": "2024-04-18T17:07:45.699123Z",
     "iopub.status.idle": "2024-04-18T17:07:45.759570Z",
     "shell.execute_reply": "2024-04-18T17:07:45.758570Z",
     "shell.execute_reply.started": "2024-04-18T17:07:45.699555Z"
    },
    "id": "SeZf_NS_6ekx",
    "outputId": "bbb78d12-56eb-4e85-df3d-5da2e135025b"
   },
   "outputs": [],
   "source": [
    "df = df.dropna()\n",
    "rating_value_mapping = {x : ix for ix, x in enumerate(set(df[\"Rating\"].dropna()))}\n",
    "sdf = pd.concat([df[\"Rating\"].map(rating_value_mapping), df[\"Review\"]], axis =1)\n",
    "sdf[\"Rating\"] = sdf[\"Rating\"].astype(\"int32\")\n",
    "sdf = sdf.rename(\n",
    "    columns = {\n",
    "        \"Review\":\"text\",\n",
    "        \"Rating\":\"label\"\n",
    "    }\n",
    ")\n",
    "sdf.head()"
   ]
  },
  {
   "cell_type": "code",
   "execution_count": null,
   "metadata": {
    "execution": {
     "iopub.execute_input": "2024-04-18T17:07:45.763111Z",
     "iopub.status.busy": "2024-04-18T17:07:45.762804Z",
     "iopub.status.idle": "2024-04-18T17:07:45.773244Z",
     "shell.execute_reply": "2024-04-18T17:07:45.772094Z",
     "shell.execute_reply.started": "2024-04-18T17:07:45.763084Z"
    },
    "id": "-DyNRpzRHuqJ",
    "outputId": "9497b4ea-f9d0-4099-8f53-a6ed9d57f6ce"
   },
   "outputs": [],
   "source": [
    "sdf[\"label\"].value_counts()"
   ]
  },
  {
   "cell_type": "code",
   "execution_count": null,
   "metadata": {
    "execution": {
     "iopub.execute_input": "2024-04-18T17:07:45.774894Z",
     "iopub.status.busy": "2024-04-18T17:07:45.774544Z",
     "iopub.status.idle": "2024-04-18T17:07:46.032547Z",
     "shell.execute_reply": "2024-04-18T17:07:46.031392Z",
     "shell.execute_reply.started": "2024-04-18T17:07:45.774867Z"
    },
    "id": "oBXgNzPhBG6i",
    "outputId": "25a25e41-77b3-4345-bb13-1b90dc2c08c1"
   },
   "outputs": [],
   "source": [
    "plt.bar(sdf[\"label\"].unique(), sdf[\"label\"].value_counts());"
   ]
  },
  {
   "cell_type": "code",
   "execution_count": null,
   "metadata": {
    "execution": {
     "iopub.execute_input": "2024-04-18T17:07:46.034110Z",
     "iopub.status.busy": "2024-04-18T17:07:46.033831Z",
     "iopub.status.idle": "2024-04-18T17:07:46.196158Z",
     "shell.execute_reply": "2024-04-18T17:07:46.195133Z",
     "shell.execute_reply.started": "2024-04-18T17:07:46.034086Z"
    },
    "id": "-2qv9rPtz6pF",
    "outputId": "2db98da8-1369-49c4-f4e6-b8cd357ca728"
   },
   "outputs": [],
   "source": [
    "tokenizer = AutoTokenizer.from_pretrained(\"distilbert-base-uncased\")"
   ]
  },
  {
   "cell_type": "code",
   "execution_count": null,
   "metadata": {
    "_kg_hide-output": true,
    "execution": {
     "iopub.execute_input": "2024-04-18T17:07:46.197731Z",
     "iopub.status.busy": "2024-04-18T17:07:46.197430Z",
     "iopub.status.idle": "2024-04-18T17:07:46.801907Z",
     "shell.execute_reply": "2024-04-18T17:07:46.800264Z",
     "shell.execute_reply.started": "2024-04-18T17:07:46.197706Z"
    },
    "id": "jI2jNpcy4VMF",
    "outputId": "61c155b1-9ed7-4c50-e31f-bf9f46e07454"
   },
   "outputs": [],
   "source": [
    "ds = Dataset.from_pandas(sdf, preserve_index=False)\n",
    "ds.shape[0]"
   ]
  },
  {
   "cell_type": "code",
   "execution_count": null,
   "metadata": {
    "execution": {
     "iopub.execute_input": "2024-04-18T17:07:46.804054Z",
     "iopub.status.busy": "2024-04-18T17:07:46.803258Z",
     "iopub.status.idle": "2024-04-18T17:07:47.668050Z",
     "shell.execute_reply": "2024-04-18T17:07:47.666856Z",
     "shell.execute_reply.started": "2024-04-18T17:07:46.804014Z"
    },
    "id": "8ZvgvE02Dx7l",
    "outputId": "9aebbe36-99f0-4cd0-ea49-4acc4ce17c99"
   },
   "outputs": [],
   "source": [
    "train_percentage = 80\n",
    "def train_test_split(ds, train_part):\n",
    "    split_ix = int(ds.shape[0]*train_part)\n",
    "    train = Dataset.from_dict(ds[:split_ix])\n",
    "    test = Dataset.from_dict(ds[split_ix:])\n",
    "    return train, test\n",
    "\n",
    "train, test = train_test_split(ds, 0.95)\n",
    "len(ds), len(train), len(test)"
   ]
  },
  {
   "cell_type": "code",
   "execution_count": null,
   "metadata": {
    "execution": {
     "iopub.execute_input": "2024-04-18T17:07:47.669581Z",
     "iopub.status.busy": "2024-04-18T17:07:47.669245Z",
     "iopub.status.idle": "2024-04-18T17:08:13.524590Z",
     "shell.execute_reply": "2024-04-18T17:08:13.523586Z",
     "shell.execute_reply.started": "2024-04-18T17:07:47.669548Z"
    },
    "id": "CD8Mrnyk524v",
    "outputId": "9fc74a16-3e0b-4287-cb52-e8073d16d2a2"
   },
   "outputs": [],
   "source": [
    "def prep(ex):\n",
    "    return tokenizer(ex[\"text\"], truncation = True)\n",
    "tokenized_train = train.map(prep, batched = True)\n",
    "tokenized_test = test.map(prep, batched = True)"
   ]
  },
  {
   "cell_type": "code",
   "execution_count": null,
   "metadata": {
    "execution": {
     "iopub.execute_input": "2024-04-18T17:08:13.530172Z",
     "iopub.status.busy": "2024-04-18T17:08:13.529857Z",
     "iopub.status.idle": "2024-04-18T17:08:13.536421Z",
     "shell.execute_reply": "2024-04-18T17:08:13.535164Z",
     "shell.execute_reply.started": "2024-04-18T17:08:13.530143Z"
    },
    "id": "zY3favNuG2Ps"
   },
   "outputs": [],
   "source": [
    "data_collator = DataCollatorWithPadding(tokenizer=tokenizer)"
   ]
  },
  {
   "cell_type": "markdown",
   "metadata": {
    "id": "_j8G34XbHKyK"
   },
   "source": [
    "# Training"
   ]
  },
  {
   "cell_type": "code",
   "execution_count": null,
   "metadata": {
    "execution": {
     "iopub.execute_input": "2024-04-18T17:08:13.537955Z",
     "iopub.status.busy": "2024-04-18T17:08:13.537636Z",
     "iopub.status.idle": "2024-04-18T17:08:15.083019Z",
     "shell.execute_reply": "2024-04-18T17:08:15.081999Z",
     "shell.execute_reply.started": "2024-04-18T17:08:13.537925Z"
    },
    "id": "Ztnzh37GHPND",
    "outputId": "de30948f-7edd-4f60-e082-af0341104621"
   },
   "outputs": [],
   "source": [
    "id2label = {x:0 for x in range(10)}\n",
    "\n",
    "start = 0.5\n",
    "for key in id2label.keys():\n",
    "    id2label[key] = start\n",
    "    start += 0.5\n",
    "    \n",
    "model_ckpt = \"distilbert-base-uncased\"\n",
    "# model_ckpt = \"/kaggle/working/lab_11_distilbert_sentiment\"\n",
    "\n",
    "config = AutoConfig.from_pretrained(\n",
    "    model_ckpt,\n",
    "    num_labels=10,\n",
    "    id2label=id2label,\n",
    "    report_to=\"wandb\"\n",
    ")\n",
    "model = AutoModelForSequenceClassification.from_pretrained(\n",
    "    model_ckpt,\n",
    "    config = config\n",
    ")"
   ]
  },
  {
   "cell_type": "code",
   "execution_count": null,
   "metadata": {
    "execution": {
     "iopub.execute_input": "2024-04-18T17:08:15.084977Z",
     "iopub.status.busy": "2024-04-18T17:08:15.084668Z",
     "iopub.status.idle": "2024-04-18T17:08:15.093058Z",
     "shell.execute_reply": "2024-04-18T17:08:15.092002Z",
     "shell.execute_reply.started": "2024-04-18T17:08:15.084950Z"
    },
    "id": "XuF6hIPMICWB"
   },
   "outputs": [],
   "source": [
    "def compute_metrics(eval_pred):\n",
    "    load_accuracy = load_metric(\"accuracy\", average='macro')\n",
    "    load_f1 = load_metric(\"f1\", average='macro')\n",
    "\n",
    "    logits, labels = eval_pred\n",
    "    predictions = np.argmax(logits, axis=-1)\n",
    "    accuracy = load_accuracy.compute(\n",
    "        predictions=predictions,\n",
    "        references=labels,\n",
    "    )[\"accuracy\"]\n",
    "    f1 = load_f1.compute(\n",
    "        predictions=predictions,\n",
    "        references=labels,\n",
    "        average=\"macro\"\n",
    "    )[\"f1\"]\n",
    "    return {\"accuracy\": accuracy, \"f1\": f1}"
   ]
  },
  {
   "cell_type": "code",
   "execution_count": null,
   "metadata": {
    "execution": {
     "iopub.execute_input": "2024-04-18T17:08:15.094674Z",
     "iopub.status.busy": "2024-04-18T17:08:15.094250Z",
     "iopub.status.idle": "2024-04-18T17:08:15.134782Z",
     "shell.execute_reply": "2024-04-18T17:08:15.133936Z",
     "shell.execute_reply.started": "2024-04-18T17:08:15.094641Z"
    },
    "id": "m_RH_WD3Ig5T"
   },
   "outputs": [],
   "source": [
    "repo_name = \"lab_11_distilbert_sentiment\"\n",
    "\n",
    "training_args = TrainingArguments(\n",
    "    output_dir=repo_name,\n",
    "    learning_rate=2e-5,\n",
    "    per_device_train_batch_size=16,\n",
    "    per_device_eval_batch_size=16,\n",
    "    num_train_epochs=5,\n",
    "    weight_decay=0.01,\n",
    "    save_strategy=\"epoch\",\n",
    "    push_to_hub=True,\n",
    ")"
   ]
  },
  {
   "cell_type": "code",
   "execution_count": null,
   "metadata": {
    "execution": {
     "iopub.execute_input": "2024-04-18T17:09:37.056261Z",
     "iopub.status.busy": "2024-04-18T17:09:37.055620Z",
     "iopub.status.idle": "2024-04-18T17:09:37.264132Z",
     "shell.execute_reply": "2024-04-18T17:09:37.263088Z",
     "shell.execute_reply.started": "2024-04-18T17:09:37.056226Z"
    },
    "id": "jT9WeGdCYKC6",
    "outputId": "bd25b7d2-7abb-4f97-b14c-e49097037df6"
   },
   "outputs": [],
   "source": [
    "class WeightedTrainer(Trainer):\n",
    "    def compute_loss(self, model, inputs, return_outputs=False):\n",
    "        labels = inputs.get(\"labels\")\n",
    "        # forward pass\n",
    "        outputs = model(**inputs)\n",
    "        logits = outputs.get('logits')\n",
    "        # compute custom loss\n",
    "        device = tr.device(\"cuda\" if tr.cuda.is_available() else \"cpu\")\n",
    "        loss_fct = tr.nn.CrossEntropyLoss(\n",
    "        #weight_for_class_i = total_samples / (num_samples_in_class_i * num_classes)\n",
    "            weight=tr.tensor(\n",
    "                [ 19.68,    12.21,  5.59,    3.53,  0.55,  0.43,  0.26,  1.76,  1.11, 14.88]\n",
    "                #[0.5,      1,      1.5,     2,     2.5,   3,     3.5,   4,     4.5,  5] #real values of labels\n",
    "                #[0,        1,      2,       3,     4,     5,     6,     7,     8     9] #labels\n",
    "            ).to(device)\n",
    "        )\n",
    "        loss = loss_fct(logits.view(-1, self.model.config.num_labels), labels.view(-1))\n",
    "        return (loss, outputs) if return_outputs else loss\n",
    "\n",
    "trainer = WeightedTrainer(\n",
    "    model=model,\n",
    "    args=training_args,\n",
    "    train_dataset=tokenized_train,\n",
    "    eval_dataset=tokenized_test,\n",
    "    tokenizer=tokenizer,\n",
    "    data_collator=data_collator,\n",
    "    compute_metrics=compute_metrics,\n",
    ")"
   ]
  },
  {
   "cell_type": "code",
   "execution_count": null,
   "metadata": {
    "execution": {
     "iopub.execute_input": "2024-04-18T17:09:40.519975Z",
     "iopub.status.busy": "2024-04-18T17:09:40.519626Z"
    },
    "id": "G3dw22oMJoyp",
    "outputId": "711ea6a9-b1be-46d6-9bad-58a42c430bfe"
   },
   "outputs": [],
   "source": [
    "trainer.train()"
   ]
  },
  {
   "cell_type": "code",
   "execution_count": null,
   "metadata": {
    "id": "5Gm8xiemI6xM"
   },
   "outputs": [],
   "source": [
    "trainer.evaluate()"
   ]
  },
  {
   "cell_type": "code",
   "execution_count": null,
   "metadata": {
    "id": "YpdcneE5TeVE"
   },
   "outputs": [],
   "source": [
    "trainer.push_to_hub()"
   ]
  },
  {
   "cell_type": "code",
   "execution_count": null,
   "metadata": {
    "id": "eDgho7TDNRil"
   },
   "outputs": [],
   "source": [
    "sentiment_model = pipeline(model=\"Malecc/lab_11_distilbert_sentiment\")"
   ]
  },
  {
   "cell_type": "code",
   "execution_count": null,
   "metadata": {
    "id": "4zhWXXW5UQ5L"
   },
   "outputs": [],
   "source": [
    "sentiment_model(\"as i can get it, listening worth it\")"
   ]
  },
  {
   "cell_type": "code",
   "execution_count": null,
   "metadata": {
    "id": "L3z1WA-lUP_M"
   },
   "outputs": [],
   "source": [
    "sentiment_model(\"this album bad as fuck\")"
   ]
  },
  {
   "cell_type": "code",
   "execution_count": null,
   "metadata": {
    "id": "RziXHKUURawo"
   },
   "outputs": [],
   "source": [
    "examples = [\n",
    "    \"This enchanting album is a tapestry of emotions, weaving tales of love, loss, and resilience. Swift's ethereal vocals and poetic lyrics create a hauntingly beautiful landscape that resonates with listeners on a deeply personal level. 'Evermore' is a testament to Swift's evolution as an artist, showcasing her ability to craft intricate narratives that tug at the heartstrings and linger long after the music fades\",\n",
    "    \"A tour de force of introspection and raw honesty, 'DAMN.' delves into the complexities of the human experience with unflinching precision. Lamar's lyrical prowess and innovative production create a sonic journey that challenges societal norms and sparks introspection. This album is a bold statement that demands attention and reflection, solidifying Lamar's place as a visionary in the world of hip-hop\",\n",
    "    \"Radiating warmth and authenticity, 'BE' is a testament to BTS's unwavering bond with their fans and each other. The album's intimate lyrics and infectious melodies invite listeners into a world of hope, resilience, and unity. 'BE' is a beacon of light in challenging times, reminding us of the power of music to connect and uplift spirits\",\n",
    "    \"Eilish's sophomore album is a raw and vulnerable exploration of love, heartbreak, and self-discovery. Her haunting vocals and minimalist production create a hauntingly beautiful soundscape that lingers in the mind long after the last note fades. 'Happier Than Ever' is a testament to Eilish's growth as an artist, showcasing her ability to push boundaries and bare her soul with fearless honesty.\",\n",
    "    \"A soul-stirring journey through heartache, healing, and self-discovery, '30' is a testament to Adele's unmatched vocal prowess and emotional depth. Each track is a poignant reflection of love, loss, and resilience, drawing listeners into Adele's world of raw emotion and vulnerability. '30' is a cathartic experience that resonates with anyone who has ever loved and lost, solidifying Adele's status as a powerhouse in the world of music\",\n",
    "]\n",
    "for ex in examples:\n",
    "    print(\"*\"*50)\n",
    "    print(\"EXAMPLE\")\n",
    "    print(ex)\n",
    "    print(sentiment_model(ex))"
   ]
  },
  {
   "cell_type": "code",
   "execution_count": null,
   "metadata": {},
   "outputs": [],
   "source": []
  },
  {
   "cell_type": "code",
   "execution_count": null,
   "metadata": {},
   "outputs": [],
   "source": []
  }
 ],
 "metadata": {
  "accelerator": "GPU",
  "colab": {
   "gpuType": "T4",
   "provenance": []
  },
  "kaggle": {
   "accelerator": "nvidiaTeslaT4",
   "dataSources": [],
   "dockerImageVersionId": 30683,
   "isGpuEnabled": true,
   "isInternetEnabled": true,
   "language": "python",
   "sourceType": "notebook"
  },
  "kernelspec": {
   "display_name": "Python 3 (ipykernel)",
   "language": "python",
   "name": "python3"
  },
  "language_info": {
   "codemirror_mode": {
    "name": "ipython",
    "version": 3
   },
   "file_extension": ".py",
   "mimetype": "text/x-python",
   "name": "python",
   "nbconvert_exporter": "python",
   "pygments_lexer": "ipython3",
   "version": "3.10.12"
  },
  "widgets": {
   "application/vnd.jupyter.widget-state+json": {
    "03fde12314fb41a6809565718d161a4b": {
     "model_module": "@jupyter-widgets/controls",
     "model_module_version": "1.5.0",
     "model_name": "HTMLModel",
     "state": {
      "_dom_classes": [],
      "_model_module": "@jupyter-widgets/controls",
      "_model_module_version": "1.5.0",
      "_model_name": "HTMLModel",
      "_view_count": null,
      "_view_module": "@jupyter-widgets/controls",
      "_view_module_version": "1.5.0",
      "_view_name": "HTMLView",
      "description": "",
      "description_tooltip": null,
      "layout": "IPY_MODEL_2e69682e787142cea9bde5e393590b8e",
      "placeholder": "​",
      "style": "IPY_MODEL_cb4a2cf6524b4e0e83721d350aec4fbb",
      "value": "Map: 100%"
     }
    },
    "0cc3cb7760364195bb651cd4f22a0fd8": {
     "model_module": "@jupyter-widgets/controls",
     "model_module_version": "1.5.0",
     "model_name": "DescriptionStyleModel",
     "state": {
      "_model_module": "@jupyter-widgets/controls",
      "_model_module_version": "1.5.0",
      "_model_name": "DescriptionStyleModel",
      "_view_count": null,
      "_view_module": "@jupyter-widgets/base",
      "_view_module_version": "1.2.0",
      "_view_name": "StyleView",
      "description_width": ""
     }
    },
    "0e8d5e5780154763bf31db283a74fc29": {
     "model_module": "@jupyter-widgets/base",
     "model_module_version": "1.2.0",
     "model_name": "LayoutModel",
     "state": {
      "_model_module": "@jupyter-widgets/base",
      "_model_module_version": "1.2.0",
      "_model_name": "LayoutModel",
      "_view_count": null,
      "_view_module": "@jupyter-widgets/base",
      "_view_module_version": "1.2.0",
      "_view_name": "LayoutView",
      "align_content": null,
      "align_items": null,
      "align_self": null,
      "border": null,
      "bottom": null,
      "display": null,
      "flex": null,
      "flex_flow": null,
      "grid_area": null,
      "grid_auto_columns": null,
      "grid_auto_flow": null,
      "grid_auto_rows": null,
      "grid_column": null,
      "grid_gap": null,
      "grid_row": null,
      "grid_template_areas": null,
      "grid_template_columns": null,
      "grid_template_rows": null,
      "height": null,
      "justify_content": null,
      "justify_items": null,
      "left": null,
      "margin": null,
      "max_height": null,
      "max_width": null,
      "min_height": null,
      "min_width": null,
      "object_fit": null,
      "object_position": null,
      "order": null,
      "overflow": null,
      "overflow_x": null,
      "overflow_y": null,
      "padding": null,
      "right": null,
      "top": null,
      "visibility": null,
      "width": null
     }
    },
    "1721b9ee1a6742078c33e0dc404031b9": {
     "model_module": "@jupyter-widgets/base",
     "model_module_version": "1.2.0",
     "model_name": "LayoutModel",
     "state": {
      "_model_module": "@jupyter-widgets/base",
      "_model_module_version": "1.2.0",
      "_model_name": "LayoutModel",
      "_view_count": null,
      "_view_module": "@jupyter-widgets/base",
      "_view_module_version": "1.2.0",
      "_view_name": "LayoutView",
      "align_content": null,
      "align_items": null,
      "align_self": null,
      "border": null,
      "bottom": null,
      "display": null,
      "flex": null,
      "flex_flow": null,
      "grid_area": null,
      "grid_auto_columns": null,
      "grid_auto_flow": null,
      "grid_auto_rows": null,
      "grid_column": null,
      "grid_gap": null,
      "grid_row": null,
      "grid_template_areas": null,
      "grid_template_columns": null,
      "grid_template_rows": null,
      "height": null,
      "justify_content": null,
      "justify_items": null,
      "left": null,
      "margin": null,
      "max_height": null,
      "max_width": null,
      "min_height": null,
      "min_width": null,
      "object_fit": null,
      "object_position": null,
      "order": null,
      "overflow": null,
      "overflow_x": null,
      "overflow_y": null,
      "padding": null,
      "right": null,
      "top": null,
      "visibility": null,
      "width": null
     }
    },
    "2e69682e787142cea9bde5e393590b8e": {
     "model_module": "@jupyter-widgets/base",
     "model_module_version": "1.2.0",
     "model_name": "LayoutModel",
     "state": {
      "_model_module": "@jupyter-widgets/base",
      "_model_module_version": "1.2.0",
      "_model_name": "LayoutModel",
      "_view_count": null,
      "_view_module": "@jupyter-widgets/base",
      "_view_module_version": "1.2.0",
      "_view_name": "LayoutView",
      "align_content": null,
      "align_items": null,
      "align_self": null,
      "border": null,
      "bottom": null,
      "display": null,
      "flex": null,
      "flex_flow": null,
      "grid_area": null,
      "grid_auto_columns": null,
      "grid_auto_flow": null,
      "grid_auto_rows": null,
      "grid_column": null,
      "grid_gap": null,
      "grid_row": null,
      "grid_template_areas": null,
      "grid_template_columns": null,
      "grid_template_rows": null,
      "height": null,
      "justify_content": null,
      "justify_items": null,
      "left": null,
      "margin": null,
      "max_height": null,
      "max_width": null,
      "min_height": null,
      "min_width": null,
      "object_fit": null,
      "object_position": null,
      "order": null,
      "overflow": null,
      "overflow_x": null,
      "overflow_y": null,
      "padding": null,
      "right": null,
      "top": null,
      "visibility": null,
      "width": null
     }
    },
    "44f2ec41d7e647ec983ee218591fd8bf": {
     "model_module": "@jupyter-widgets/base",
     "model_module_version": "1.2.0",
     "model_name": "LayoutModel",
     "state": {
      "_model_module": "@jupyter-widgets/base",
      "_model_module_version": "1.2.0",
      "_model_name": "LayoutModel",
      "_view_count": null,
      "_view_module": "@jupyter-widgets/base",
      "_view_module_version": "1.2.0",
      "_view_name": "LayoutView",
      "align_content": null,
      "align_items": null,
      "align_self": null,
      "border": null,
      "bottom": null,
      "display": null,
      "flex": null,
      "flex_flow": null,
      "grid_area": null,
      "grid_auto_columns": null,
      "grid_auto_flow": null,
      "grid_auto_rows": null,
      "grid_column": null,
      "grid_gap": null,
      "grid_row": null,
      "grid_template_areas": null,
      "grid_template_columns": null,
      "grid_template_rows": null,
      "height": null,
      "justify_content": null,
      "justify_items": null,
      "left": null,
      "margin": null,
      "max_height": null,
      "max_width": null,
      "min_height": null,
      "min_width": null,
      "object_fit": null,
      "object_position": null,
      "order": null,
      "overflow": null,
      "overflow_x": null,
      "overflow_y": null,
      "padding": null,
      "right": null,
      "top": null,
      "visibility": null,
      "width": null
     }
    },
    "5135dc3e43534010880d5dcd28975d49": {
     "model_module": "@jupyter-widgets/controls",
     "model_module_version": "1.5.0",
     "model_name": "DescriptionStyleModel",
     "state": {
      "_model_module": "@jupyter-widgets/controls",
      "_model_module_version": "1.5.0",
      "_model_name": "DescriptionStyleModel",
      "_view_count": null,
      "_view_module": "@jupyter-widgets/base",
      "_view_module_version": "1.2.0",
      "_view_name": "StyleView",
      "description_width": ""
     }
    },
    "6ac50295a548411ca59f442ae149b8d7": {
     "model_module": "@jupyter-widgets/controls",
     "model_module_version": "1.5.0",
     "model_name": "ProgressStyleModel",
     "state": {
      "_model_module": "@jupyter-widgets/controls",
      "_model_module_version": "1.5.0",
      "_model_name": "ProgressStyleModel",
      "_view_count": null,
      "_view_module": "@jupyter-widgets/base",
      "_view_module_version": "1.2.0",
      "_view_name": "StyleView",
      "bar_color": null,
      "description_width": ""
     }
    },
    "7c4add75637846b7ad3080dc178d98f9": {
     "model_module": "@jupyter-widgets/controls",
     "model_module_version": "1.5.0",
     "model_name": "HTMLModel",
     "state": {
      "_dom_classes": [],
      "_model_module": "@jupyter-widgets/controls",
      "_model_module_version": "1.5.0",
      "_model_name": "HTMLModel",
      "_view_count": null,
      "_view_module": "@jupyter-widgets/controls",
      "_view_module_version": "1.5.0",
      "_view_name": "HTMLView",
      "description": "",
      "description_tooltip": null,
      "layout": "IPY_MODEL_ba29658f7c2f4d8db49bd03b3086a8b1",
      "placeholder": "​",
      "style": "IPY_MODEL_0cc3cb7760364195bb651cd4f22a0fd8",
      "value": " 62529/62529 [01:04&lt;00:00, 1214.07 examples/s]"
     }
    },
    "7cd6e595544e421b90e58bc528f4cc6a": {
     "model_module": "@jupyter-widgets/controls",
     "model_module_version": "1.5.0",
     "model_name": "HTMLModel",
     "state": {
      "_dom_classes": [],
      "_model_module": "@jupyter-widgets/controls",
      "_model_module_version": "1.5.0",
      "_model_name": "HTMLModel",
      "_view_count": null,
      "_view_module": "@jupyter-widgets/controls",
      "_view_module_version": "1.5.0",
      "_view_name": "HTMLView",
      "description": "",
      "description_tooltip": null,
      "layout": "IPY_MODEL_e7ef9417bc594d3b965dcf91a928230c",
      "placeholder": "​",
      "style": "IPY_MODEL_5135dc3e43534010880d5dcd28975d49",
      "value": "Map: 100%"
     }
    },
    "7fc2d9e247cd42269b35cc7707f5189d": {
     "model_module": "@jupyter-widgets/controls",
     "model_module_version": "1.5.0",
     "model_name": "DescriptionStyleModel",
     "state": {
      "_model_module": "@jupyter-widgets/controls",
      "_model_module_version": "1.5.0",
      "_model_name": "DescriptionStyleModel",
      "_view_count": null,
      "_view_module": "@jupyter-widgets/base",
      "_view_module_version": "1.2.0",
      "_view_name": "StyleView",
      "description_width": ""
     }
    },
    "87974ff0246b414297726378735cd593": {
     "model_module": "@jupyter-widgets/controls",
     "model_module_version": "1.5.0",
     "model_name": "FloatProgressModel",
     "state": {
      "_dom_classes": [],
      "_model_module": "@jupyter-widgets/controls",
      "_model_module_version": "1.5.0",
      "_model_name": "FloatProgressModel",
      "_view_count": null,
      "_view_module": "@jupyter-widgets/controls",
      "_view_module_version": "1.5.0",
      "_view_name": "ProgressView",
      "bar_style": "success",
      "description": "",
      "description_tooltip": null,
      "layout": "IPY_MODEL_0e8d5e5780154763bf31db283a74fc29",
      "max": 62529,
      "min": 0,
      "orientation": "horizontal",
      "style": "IPY_MODEL_6ac50295a548411ca59f442ae149b8d7",
      "value": 62529
     }
    },
    "92c430b246514fb9991c544bd4917c23": {
     "model_module": "@jupyter-widgets/controls",
     "model_module_version": "1.5.0",
     "model_name": "HBoxModel",
     "state": {
      "_dom_classes": [],
      "_model_module": "@jupyter-widgets/controls",
      "_model_module_version": "1.5.0",
      "_model_name": "HBoxModel",
      "_view_count": null,
      "_view_module": "@jupyter-widgets/controls",
      "_view_module_version": "1.5.0",
      "_view_name": "HBoxView",
      "box_style": "",
      "children": [
       "IPY_MODEL_7cd6e595544e421b90e58bc528f4cc6a",
       "IPY_MODEL_e7c71b232100487eaee9928f8e3a127b",
       "IPY_MODEL_e81c77d09c764cc38684d08bc69904f6"
      ],
      "layout": "IPY_MODEL_eb92ce9b48ec4553a276dbd6aee87d77"
     }
    },
    "99ceed9d15644fceb1837279dd4b02f7": {
     "model_module": "@jupyter-widgets/controls",
     "model_module_version": "1.5.0",
     "model_name": "ProgressStyleModel",
     "state": {
      "_model_module": "@jupyter-widgets/controls",
      "_model_module_version": "1.5.0",
      "_model_name": "ProgressStyleModel",
      "_view_count": null,
      "_view_module": "@jupyter-widgets/base",
      "_view_module_version": "1.2.0",
      "_view_name": "StyleView",
      "bar_color": null,
      "description_width": ""
     }
    },
    "9d14cb5a9dad44f8b59bde7e390b8da3": {
     "model_module": "@jupyter-widgets/base",
     "model_module_version": "1.2.0",
     "model_name": "LayoutModel",
     "state": {
      "_model_module": "@jupyter-widgets/base",
      "_model_module_version": "1.2.0",
      "_model_name": "LayoutModel",
      "_view_count": null,
      "_view_module": "@jupyter-widgets/base",
      "_view_module_version": "1.2.0",
      "_view_name": "LayoutView",
      "align_content": null,
      "align_items": null,
      "align_self": null,
      "border": null,
      "bottom": null,
      "display": null,
      "flex": null,
      "flex_flow": null,
      "grid_area": null,
      "grid_auto_columns": null,
      "grid_auto_flow": null,
      "grid_auto_rows": null,
      "grid_column": null,
      "grid_gap": null,
      "grid_row": null,
      "grid_template_areas": null,
      "grid_template_columns": null,
      "grid_template_rows": null,
      "height": null,
      "justify_content": null,
      "justify_items": null,
      "left": null,
      "margin": null,
      "max_height": null,
      "max_width": null,
      "min_height": null,
      "min_width": null,
      "object_fit": null,
      "object_position": null,
      "order": null,
      "overflow": null,
      "overflow_x": null,
      "overflow_y": null,
      "padding": null,
      "right": null,
      "top": null,
      "visibility": null,
      "width": null
     }
    },
    "af68fc742e2b4d5f92c05778c2c16015": {
     "model_module": "@jupyter-widgets/controls",
     "model_module_version": "1.5.0",
     "model_name": "HBoxModel",
     "state": {
      "_dom_classes": [],
      "_model_module": "@jupyter-widgets/controls",
      "_model_module_version": "1.5.0",
      "_model_name": "HBoxModel",
      "_view_count": null,
      "_view_module": "@jupyter-widgets/controls",
      "_view_module_version": "1.5.0",
      "_view_name": "HBoxView",
      "box_style": "",
      "children": [
       "IPY_MODEL_03fde12314fb41a6809565718d161a4b",
       "IPY_MODEL_87974ff0246b414297726378735cd593",
       "IPY_MODEL_7c4add75637846b7ad3080dc178d98f9"
      ],
      "layout": "IPY_MODEL_44f2ec41d7e647ec983ee218591fd8bf"
     }
    },
    "ba29658f7c2f4d8db49bd03b3086a8b1": {
     "model_module": "@jupyter-widgets/base",
     "model_module_version": "1.2.0",
     "model_name": "LayoutModel",
     "state": {
      "_model_module": "@jupyter-widgets/base",
      "_model_module_version": "1.2.0",
      "_model_name": "LayoutModel",
      "_view_count": null,
      "_view_module": "@jupyter-widgets/base",
      "_view_module_version": "1.2.0",
      "_view_name": "LayoutView",
      "align_content": null,
      "align_items": null,
      "align_self": null,
      "border": null,
      "bottom": null,
      "display": null,
      "flex": null,
      "flex_flow": null,
      "grid_area": null,
      "grid_auto_columns": null,
      "grid_auto_flow": null,
      "grid_auto_rows": null,
      "grid_column": null,
      "grid_gap": null,
      "grid_row": null,
      "grid_template_areas": null,
      "grid_template_columns": null,
      "grid_template_rows": null,
      "height": null,
      "justify_content": null,
      "justify_items": null,
      "left": null,
      "margin": null,
      "max_height": null,
      "max_width": null,
      "min_height": null,
      "min_width": null,
      "object_fit": null,
      "object_position": null,
      "order": null,
      "overflow": null,
      "overflow_x": null,
      "overflow_y": null,
      "padding": null,
      "right": null,
      "top": null,
      "visibility": null,
      "width": null
     }
    },
    "cb4a2cf6524b4e0e83721d350aec4fbb": {
     "model_module": "@jupyter-widgets/controls",
     "model_module_version": "1.5.0",
     "model_name": "DescriptionStyleModel",
     "state": {
      "_model_module": "@jupyter-widgets/controls",
      "_model_module_version": "1.5.0",
      "_model_name": "DescriptionStyleModel",
      "_view_count": null,
      "_view_module": "@jupyter-widgets/base",
      "_view_module_version": "1.2.0",
      "_view_name": "StyleView",
      "description_width": ""
     }
    },
    "e7c71b232100487eaee9928f8e3a127b": {
     "model_module": "@jupyter-widgets/controls",
     "model_module_version": "1.5.0",
     "model_name": "FloatProgressModel",
     "state": {
      "_dom_classes": [],
      "_model_module": "@jupyter-widgets/controls",
      "_model_module_version": "1.5.0",
      "_model_name": "FloatProgressModel",
      "_view_count": null,
      "_view_module": "@jupyter-widgets/controls",
      "_view_module_version": "1.5.0",
      "_view_name": "ProgressView",
      "bar_style": "success",
      "description": "",
      "description_tooltip": null,
      "layout": "IPY_MODEL_1721b9ee1a6742078c33e0dc404031b9",
      "max": 15633,
      "min": 0,
      "orientation": "horizontal",
      "style": "IPY_MODEL_99ceed9d15644fceb1837279dd4b02f7",
      "value": 15633
     }
    },
    "e7ef9417bc594d3b965dcf91a928230c": {
     "model_module": "@jupyter-widgets/base",
     "model_module_version": "1.2.0",
     "model_name": "LayoutModel",
     "state": {
      "_model_module": "@jupyter-widgets/base",
      "_model_module_version": "1.2.0",
      "_model_name": "LayoutModel",
      "_view_count": null,
      "_view_module": "@jupyter-widgets/base",
      "_view_module_version": "1.2.0",
      "_view_name": "LayoutView",
      "align_content": null,
      "align_items": null,
      "align_self": null,
      "border": null,
      "bottom": null,
      "display": null,
      "flex": null,
      "flex_flow": null,
      "grid_area": null,
      "grid_auto_columns": null,
      "grid_auto_flow": null,
      "grid_auto_rows": null,
      "grid_column": null,
      "grid_gap": null,
      "grid_row": null,
      "grid_template_areas": null,
      "grid_template_columns": null,
      "grid_template_rows": null,
      "height": null,
      "justify_content": null,
      "justify_items": null,
      "left": null,
      "margin": null,
      "max_height": null,
      "max_width": null,
      "min_height": null,
      "min_width": null,
      "object_fit": null,
      "object_position": null,
      "order": null,
      "overflow": null,
      "overflow_x": null,
      "overflow_y": null,
      "padding": null,
      "right": null,
      "top": null,
      "visibility": null,
      "width": null
     }
    },
    "e81c77d09c764cc38684d08bc69904f6": {
     "model_module": "@jupyter-widgets/controls",
     "model_module_version": "1.5.0",
     "model_name": "HTMLModel",
     "state": {
      "_dom_classes": [],
      "_model_module": "@jupyter-widgets/controls",
      "_model_module_version": "1.5.0",
      "_model_name": "HTMLModel",
      "_view_count": null,
      "_view_module": "@jupyter-widgets/controls",
      "_view_module_version": "1.5.0",
      "_view_name": "HTMLView",
      "description": "",
      "description_tooltip": null,
      "layout": "IPY_MODEL_9d14cb5a9dad44f8b59bde7e390b8da3",
      "placeholder": "​",
      "style": "IPY_MODEL_7fc2d9e247cd42269b35cc7707f5189d",
      "value": " 15633/15633 [00:09&lt;00:00, 1833.73 examples/s]"
     }
    },
    "eb92ce9b48ec4553a276dbd6aee87d77": {
     "model_module": "@jupyter-widgets/base",
     "model_module_version": "1.2.0",
     "model_name": "LayoutModel",
     "state": {
      "_model_module": "@jupyter-widgets/base",
      "_model_module_version": "1.2.0",
      "_model_name": "LayoutModel",
      "_view_count": null,
      "_view_module": "@jupyter-widgets/base",
      "_view_module_version": "1.2.0",
      "_view_name": "LayoutView",
      "align_content": null,
      "align_items": null,
      "align_self": null,
      "border": null,
      "bottom": null,
      "display": null,
      "flex": null,
      "flex_flow": null,
      "grid_area": null,
      "grid_auto_columns": null,
      "grid_auto_flow": null,
      "grid_auto_rows": null,
      "grid_column": null,
      "grid_gap": null,
      "grid_row": null,
      "grid_template_areas": null,
      "grid_template_columns": null,
      "grid_template_rows": null,
      "height": null,
      "justify_content": null,
      "justify_items": null,
      "left": null,
      "margin": null,
      "max_height": null,
      "max_width": null,
      "min_height": null,
      "min_width": null,
      "object_fit": null,
      "object_position": null,
      "order": null,
      "overflow": null,
      "overflow_x": null,
      "overflow_y": null,
      "padding": null,
      "right": null,
      "top": null,
      "visibility": null,
      "width": null
     }
    }
   }
  }
 },
 "nbformat": 4,
 "nbformat_minor": 4
}
