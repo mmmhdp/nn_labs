{
 "cells": [
  {
   "cell_type": "markdown",
   "source": [
    "# Part 1"
   ],
   "metadata": {
    "collapsed": false
   },
   "id": "c915a200eeb6c977"
  },
  {
   "cell_type": "markdown",
   "source": [
    "# Imports"
   ],
   "metadata": {
    "collapsed": false
   },
   "id": "6de7115647da4b19"
  },
  {
   "cell_type": "code",
   "outputs": [],
   "source": [
    "import numpy as np\n",
    "import torch as tr\n",
    "\n",
    "import torchvision as tv\n",
    "from torchvision import transforms as trf\n",
    "\n",
    "from torch.utils.data import DataLoader\n",
    "import torch.nn as nn\n",
    "\n",
    "import matplotlib.pyplot as plt\n",
    "from tqdm import tqdm"
   ],
   "metadata": {
    "collapsed": false,
    "ExecuteTime": {
     "end_time": "2024-03-19T06:24:07.510935671Z",
     "start_time": "2024-03-19T06:24:07.504645611Z"
    }
   },
   "id": "d0a7d066ad9173f5",
   "execution_count": 43
  },
  {
   "cell_type": "markdown",
   "source": [
    "# Dataset generation stage"
   ],
   "metadata": {
    "collapsed": false
   },
   "id": "c3a9d0017c5e1194"
  },
  {
   "cell_type": "code",
   "outputs": [],
   "source": [
    "tr.manual_seed(42);"
   ],
   "metadata": {
    "collapsed": false,
    "ExecuteTime": {
     "end_time": "2024-03-18T19:35:57.569549626Z",
     "start_time": "2024-03-18T19:35:57.554902602Z"
    }
   },
   "id": "e8c2acfeeb5cb415",
   "execution_count": 2
  },
  {
   "cell_type": "code",
   "outputs": [
    {
     "data": {
      "text/plain": "[(tensor([ -6.2832, -19.7392]), tensor([0.])),\n (tensor([ -6.2586, -19.4871]), tensor([0.])),\n (tensor([ -6.2341, -19.2357]), tensor([0.])),\n (tensor([ -6.2096, -18.9850]), tensor([0.])),\n (tensor([ -6.1850, -18.7351]), tensor([0.])),\n (tensor([ -6.1605, -18.4860]), tensor([0.])),\n (tensor([ -6.1359, -18.2379]), tensor([0.])),\n (tensor([ -6.1114, -17.9906]), tensor([0.])),\n (tensor([ -6.0868, -17.7444]), tensor([0.])),\n (tensor([ -6.0623, -17.4993]), tensor([0.])),\n (tensor([ -6.0377, -17.2553]), tensor([0.])),\n (tensor([ -6.0132, -17.0125]), tensor([0.])),\n (tensor([ -5.9887, -16.7709]), tensor([0.])),\n (tensor([ -5.9641, -16.5306]), tensor([0.])),\n (tensor([ -5.9396, -16.2917]), tensor([0.])),\n (tensor([ -5.9150, -16.0542]), tensor([0.])),\n (tensor([ -5.8905, -15.8182]), tensor([0.])),\n (tensor([ -5.8659, -15.5837]), tensor([0.])),\n (tensor([ -5.8414, -15.3507]), tensor([0.])),\n (tensor([ -5.8169, -15.1195]), tensor([0.])),\n (tensor([ -5.7923, -14.8899]), tensor([0.])),\n (tensor([ -5.7678, -14.6620]), tensor([0.])),\n (tensor([ -5.7432, -14.4359]), tensor([0.])),\n (tensor([ -5.7187, -14.2117]), tensor([0.])),\n (tensor([ -5.6941, -13.9893]), tensor([0.])),\n (tensor([ -5.6696, -13.7689]), tensor([0.])),\n (tensor([ -5.6450, -13.5505]), tensor([0.])),\n (tensor([ -5.6205, -13.3341]), tensor([0.])),\n (tensor([ -5.5960, -13.1198]), tensor([0.])),\n (tensor([ -5.5714, -12.9077]), tensor([0.])),\n (tensor([ -5.5469, -12.6977]), tensor([0.])),\n (tensor([ -5.5223, -12.4899]), tensor([0.])),\n (tensor([ -5.4978, -12.2844]), tensor([0.])),\n (tensor([ -5.4732, -12.0812]), tensor([0.])),\n (tensor([ -5.4487, -11.8804]), tensor([0.])),\n (tensor([ -5.4242, -11.6819]), tensor([0.])),\n (tensor([ -5.3996, -11.4859]), tensor([0.])),\n (tensor([ -5.3751, -11.2923]), tensor([0.])),\n (tensor([ -5.3505, -11.1012]), tensor([0.])),\n (tensor([ -5.3260, -10.9127]), tensor([0.])),\n (tensor([ -5.3014, -10.7267]), tensor([0.])),\n (tensor([ -5.2769, -10.5434]), tensor([0.])),\n (tensor([ -5.2523, -10.3627]), tensor([0.])),\n (tensor([ -5.2278, -10.1846]), tensor([0.])),\n (tensor([ -5.2033, -10.0093]), tensor([0.])),\n (tensor([-5.1787, -9.8367]), tensor([0.])),\n (tensor([-5.1542, -9.6668]), tensor([0.])),\n (tensor([-5.1296, -9.4997]), tensor([0.])),\n (tensor([-5.1051, -9.3354]), tensor([0.])),\n (tensor([-5.0805, -9.1740]), tensor([0.])),\n (tensor([-5.0560, -9.0154]), tensor([0.])),\n (tensor([-5.0315, -8.8597]), tensor([0.])),\n (tensor([-5.0069, -8.7068]), tensor([0.])),\n (tensor([-4.9824, -8.5569]), tensor([0.])),\n (tensor([-4.9578, -8.4099]), tensor([0.])),\n (tensor([-4.9333, -8.2658]), tensor([0.])),\n (tensor([-4.9087, -8.1247]), tensor([0.])),\n (tensor([-4.8842, -7.9866]), tensor([0.])),\n (tensor([-4.8597, -7.8514]), tensor([0.])),\n (tensor([-4.8351, -7.7192]), tensor([0.])),\n (tensor([-4.8106, -7.5900]), tensor([0.])),\n (tensor([-4.7860, -7.4638]), tensor([0.])),\n (tensor([-4.7615, -7.3406]), tensor([0.])),\n (tensor([-4.7369, -7.2205]), tensor([0.])),\n (tensor([-4.7124, -7.1033]), tensor([0.])),\n (tensor([-4.6878, -6.9892]), tensor([0.])),\n (tensor([-4.6633, -6.8780]), tensor([0.])),\n (tensor([-4.6388, -6.7699]), tensor([0.])),\n (tensor([-4.6142, -6.6647]), tensor([0.])),\n (tensor([-4.5897, -6.5626]), tensor([0.])),\n (tensor([-4.5651, -6.4635]), tensor([0.])),\n (tensor([-4.5406, -6.3673]), tensor([0.])),\n (tensor([-4.5160, -6.2742]), tensor([0.])),\n (tensor([-4.4915, -6.1840]), tensor([0.])),\n (tensor([-4.4670, -6.0967]), tensor([0.])),\n (tensor([-4.4424, -6.0124]), tensor([0.])),\n (tensor([-4.4179, -5.9310]), tensor([0.])),\n (tensor([-4.3933, -5.8525]), tensor([0.])),\n (tensor([-4.3688, -5.7769]), tensor([0.])),\n (tensor([-4.3442, -5.7042]), tensor([0.])),\n (tensor([-4.3197, -5.6343]), tensor([0.])),\n (tensor([-4.2951, -5.5673]), tensor([0.])),\n (tensor([-4.2706, -5.5031]), tensor([0.])),\n (tensor([-4.2461, -5.4416]), tensor([0.])),\n (tensor([-4.2215, -5.3829]), tensor([0.])),\n (tensor([-4.1970, -5.3269]), tensor([0.])),\n (tensor([-4.1724, -5.2737]), tensor([0.])),\n (tensor([-4.1479, -5.2231]), tensor([0.])),\n (tensor([-4.1233, -5.1751]), tensor([0.])),\n (tensor([-4.0988, -5.1297]), tensor([0.])),\n (tensor([-4.0743, -5.0869]), tensor([0.])),\n (tensor([-4.0497, -5.0467]), tensor([0.])),\n (tensor([-4.0252, -5.0089]), tensor([0.])),\n (tensor([-4.0006, -4.9737]), tensor([0.])),\n (tensor([-3.9761, -4.9408]), tensor([0.])),\n (tensor([-3.9515, -4.9103]), tensor([0.])),\n (tensor([-3.9270, -4.8822]), tensor([0.])),\n (tensor([-3.9024, -4.8564]), tensor([0.])),\n (tensor([-3.8779, -4.8328]), tensor([0.])),\n (tensor([-3.8534, -4.8115]), tensor([0.])),\n (tensor([-3.8288, -4.7923]), tensor([0.])),\n (tensor([-3.8043, -4.7753]), tensor([0.])),\n (tensor([-3.7797, -4.7604]), tensor([0.])),\n (tensor([-3.7552, -4.7475]), tensor([0.])),\n (tensor([-3.7306, -4.7366]), tensor([0.])),\n (tensor([-3.7061, -4.7276]), tensor([0.])),\n (tensor([-3.6816, -4.7205]), tensor([0.])),\n (tensor([-3.6570, -4.7153]), tensor([0.])),\n (tensor([-3.6325, -4.7118]), tensor([0.])),\n (tensor([-3.6079, -4.7101]), tensor([0.])),\n (tensor([-3.5834, -4.7101]), tensor([0.])),\n (tensor([-3.5588, -4.7117]), tensor([0.])),\n (tensor([-3.5343, -4.7149]), tensor([0.])),\n (tensor([-3.5097, -4.7196]), tensor([0.])),\n (tensor([-3.4852, -4.7258]), tensor([0.])),\n (tensor([-3.4607, -4.7334]), tensor([0.])),\n (tensor([-3.4361, -4.7423]), tensor([0.])),\n (tensor([-3.4116, -4.7526]), tensor([0.])),\n (tensor([-3.3870, -4.7641]), tensor([0.])),\n (tensor([-3.3625, -4.7768]), tensor([0.])),\n (tensor([-3.3379, -4.7906]), tensor([0.])),\n (tensor([-3.3134, -4.8055]), tensor([0.])),\n (tensor([-3.2889, -4.8214]), tensor([0.])),\n (tensor([-3.2643, -4.8382]), tensor([0.])),\n (tensor([-3.2398, -4.8560]), tensor([0.])),\n (tensor([-3.2152, -4.8746]), tensor([0.])),\n (tensor([-3.1907, -4.8939]), tensor([0.])),\n (tensor([-3.1661, -4.9140]), tensor([0.])),\n (tensor([-3.1416, -4.9348]), tensor([0.])),\n (tensor([-3.1170, -4.9562]), tensor([0.])),\n (tensor([-3.0925, -4.9781]), tensor([0.])),\n (tensor([-3.0680, -5.0005]), tensor([0.])),\n (tensor([-3.0434, -5.0233]), tensor([0.])),\n (tensor([-3.0189, -5.0464]), tensor([0.])),\n (tensor([-2.9943, -5.0699]), tensor([0.])),\n (tensor([-2.9698, -5.0937]), tensor([0.])),\n (tensor([-2.9452, -5.1176]), tensor([0.])),\n (tensor([-2.9207, -5.1416]), tensor([0.])),\n (tensor([-2.8962, -5.1658]), tensor([0.])),\n (tensor([-2.8716, -5.1899]), tensor([0.])),\n (tensor([-2.8471, -5.2140]), tensor([0.])),\n (tensor([-2.8225, -5.2380]), tensor([0.])),\n (tensor([-2.7980, -5.2619]), tensor([0.])),\n (tensor([-2.7734, -5.2856]), tensor([0.])),\n (tensor([-2.7489, -5.3089]), tensor([0.])),\n (tensor([-2.7243, -5.3320]), tensor([0.])),\n (tensor([-2.6998, -5.3547]), tensor([0.])),\n (tensor([-2.6753, -5.3770]), tensor([0.])),\n (tensor([-2.6507, -5.3987]), tensor([0.])),\n (tensor([-2.6262, -5.4200]), tensor([0.])),\n (tensor([-2.6016, -5.4407]), tensor([0.])),\n (tensor([-2.5771, -5.4607]), tensor([0.])),\n (tensor([-2.5525, -5.4800]), tensor([0.])),\n (tensor([-2.5280, -5.4986]), tensor([0.])),\n (tensor([-2.5035, -5.5164]), tensor([0.])),\n (tensor([-2.4789, -5.5334]), tensor([0.])),\n (tensor([-2.4544, -5.5495]), tensor([0.])),\n (tensor([-2.4298, -5.5647]), tensor([0.])),\n (tensor([-2.4053, -5.5789]), tensor([0.])),\n (tensor([-2.3807, -5.5921]), tensor([0.])),\n (tensor([-2.3562, -5.6043]), tensor([0.])),\n (tensor([-2.3317, -5.6153]), tensor([0.])),\n (tensor([-2.3071, -5.6252]), tensor([0.])),\n (tensor([-2.2826, -5.6339]), tensor([0.])),\n (tensor([-2.2580, -5.6414]), tensor([0.])),\n (tensor([-2.2335, -5.6476]), tensor([0.])),\n (tensor([-2.2089, -5.6525]), tensor([0.])),\n (tensor([-2.1844, -5.6561]), tensor([0.])),\n (tensor([-2.1598, -5.6583]), tensor([0.])),\n (tensor([-2.1353, -5.6592]), tensor([0.])),\n (tensor([-2.1108, -5.6586]), tensor([0.])),\n (tensor([-2.0862, -5.6565]), tensor([0.])),\n (tensor([-2.0617, -5.6529]), tensor([0.])),\n (tensor([-2.0371, -5.6478]), tensor([0.])),\n (tensor([-2.0126, -5.6412]), tensor([0.])),\n (tensor([-1.9880, -5.6330]), tensor([0.])),\n (tensor([-1.9635, -5.6232]), tensor([0.])),\n (tensor([-1.9390, -5.6117]), tensor([0.])),\n (tensor([-1.9144, -5.5987]), tensor([0.])),\n (tensor([-1.8899, -5.5839]), tensor([0.])),\n (tensor([-1.8653, -5.5675]), tensor([0.])),\n (tensor([-1.8408, -5.5493]), tensor([0.])),\n (tensor([-1.8162, -5.5295]), tensor([0.])),\n (tensor([-1.7917, -5.5079]), tensor([0.])),\n (tensor([-1.7671, -5.4845]), tensor([0.])),\n (tensor([-1.7426, -5.4594]), tensor([0.])),\n (tensor([-1.7181, -5.4326]), tensor([0.])),\n (tensor([-1.6935, -5.4039]), tensor([0.])),\n (tensor([-1.6690, -5.3735]), tensor([0.])),\n (tensor([-1.6444, -5.3412]), tensor([0.])),\n (tensor([-1.6199, -5.3072]), tensor([0.])),\n (tensor([-1.5953, -5.2713]), tensor([0.])),\n (tensor([-1.5708, -5.2337]), tensor([0.])),\n (tensor([-1.5463, -5.1942]), tensor([0.])),\n (tensor([-1.5217, -5.1530]), tensor([0.])),\n (tensor([-1.4972, -5.1099]), tensor([0.])),\n (tensor([-1.4726, -5.0650]), tensor([0.])),\n (tensor([-1.4481, -5.0184]), tensor([0.])),\n (tensor([-1.4235, -4.9699]), tensor([0.])),\n (tensor([-1.3990, -4.9197]), tensor([0.])),\n (tensor([-1.3744, -4.8677]), tensor([0.])),\n (tensor([-1.3499, -4.8139]), tensor([0.])),\n (tensor([-1.3254, -4.7584]), tensor([0.])),\n (tensor([-1.3008, -4.7012]), tensor([0.])),\n (tensor([-1.2763, -4.6422]), tensor([0.])),\n (tensor([-1.2517, -4.5815]), tensor([0.])),\n (tensor([-1.2272, -4.5192]), tensor([0.])),\n (tensor([-1.2026, -4.4551]), tensor([0.])),\n (tensor([-1.1781, -4.3895]), tensor([0.])),\n (tensor([-1.1536, -4.3222]), tensor([0.])),\n (tensor([-1.1290, -4.2533]), tensor([0.])),\n (tensor([-1.1045, -4.1828]), tensor([0.])),\n (tensor([-1.0799, -4.1108]), tensor([0.])),\n (tensor([-1.0554, -4.0373]), tensor([0.])),\n (tensor([-1.0308, -3.9622]), tensor([0.])),\n (tensor([-1.0063, -3.8857]), tensor([0.])),\n (tensor([-0.9817, -3.8078]), tensor([0.])),\n (tensor([-0.9572, -3.7285]), tensor([0.])),\n (tensor([-0.9327, -3.6478]), tensor([0.])),\n (tensor([-0.9081, -3.5657]), tensor([0.])),\n (tensor([-0.8836, -3.4824]), tensor([0.])),\n (tensor([-0.8590, -3.3978]), tensor([0.])),\n (tensor([-0.8345, -3.3120]), tensor([0.])),\n (tensor([-0.8099, -3.2250]), tensor([0.])),\n (tensor([-0.7854, -3.1369]), tensor([0.])),\n (tensor([-0.7609, -3.0476]), tensor([0.])),\n (tensor([-0.7363, -2.9573]), tensor([0.])),\n (tensor([-0.7118, -2.8660]), tensor([0.])),\n (tensor([-0.6872, -2.7737]), tensor([0.])),\n (tensor([-0.6627, -2.6805]), tensor([0.])),\n (tensor([-0.6381, -2.5864]), tensor([0.])),\n (tensor([-0.6136, -2.4915]), tensor([0.])),\n (tensor([-0.5890, -2.3958]), tensor([0.])),\n (tensor([-0.5645, -2.2993]), tensor([0.])),\n (tensor([-0.5400, -2.2022]), tensor([0.])),\n (tensor([-0.5154, -2.1044]), tensor([0.])),\n (tensor([-0.4909, -2.0061]), tensor([0.])),\n (tensor([-0.4663, -1.9072]), tensor([0.])),\n (tensor([-0.4418, -1.8078]), tensor([0.])),\n (tensor([-0.4172, -1.7080]), tensor([0.])),\n (tensor([-0.3927, -1.6078]), tensor([0.])),\n (tensor([-0.3682, -1.5073]), tensor([0.])),\n (tensor([-0.3436, -1.4066]), tensor([0.])),\n (tensor([-0.3191, -1.3056]), tensor([0.])),\n (tensor([-0.2945, -1.2045]), tensor([0.])),\n (tensor([-0.2700, -1.1033]), tensor([0.])),\n (tensor([-0.2454, -1.0020]), tensor([0.])),\n (tensor([-0.2209, -0.9008]), tensor([0.])),\n (tensor([-0.1963, -0.7996]), tensor([0.])),\n (tensor([-0.1718, -0.6986]), tensor([0.])),\n (tensor([-0.1473, -0.5978]), tensor([0.])),\n (tensor([-0.1227, -0.4972]), tensor([0.])),\n (tensor([-0.0982, -0.3969]), tensor([0.])),\n (tensor([-0.0736, -0.2970]), tensor([0.])),\n (tensor([-0.0491, -0.1975]), tensor([0.])),\n (tensor([-0.0245, -0.0985]), tensor([0.])),\n (tensor([0., 0.]), tensor([0.])),\n (tensor([0.0245, 0.0979]), tensor([0.])),\n (tensor([0.0491, 0.1951]), tensor([0.])),\n (tensor([0.0736, 0.2915]), tensor([0.])),\n (tensor([0.0982, 0.3872]), tensor([0.])),\n (tensor([0.1227, 0.4821]), tensor([0.])),\n (tensor([0.1473, 0.5761]), tensor([0.])),\n (tensor([0.1718, 0.6691]), tensor([0.])),\n (tensor([0.1963, 0.7611]), tensor([0.])),\n (tensor([0.2209, 0.8520]), tensor([0.])),\n (tensor([0.2454, 0.9418]), tensor([0.])),\n (tensor([0.2700, 1.0304]), tensor([0.])),\n (tensor([0.2945, 1.1178]), tensor([0.])),\n (tensor([0.3191, 1.2038]), tensor([0.])),\n (tensor([0.3436, 1.2885]), tensor([0.])),\n (tensor([0.3682, 1.3718]), tensor([0.])),\n (tensor([0.3927, 1.4536]), tensor([0.])),\n (tensor([0.4172, 1.5339]), tensor([0.])),\n (tensor([0.4418, 1.6126]), tensor([0.])),\n (tensor([0.4663, 1.6897]), tensor([0.])),\n (tensor([0.4909, 1.7651]), tensor([0.])),\n (tensor([0.5154, 1.8388]), tensor([0.])),\n (tensor([0.5400, 1.9106]), tensor([0.])),\n (tensor([0.5645, 1.9807]), tensor([0.])),\n (tensor([0.5890, 2.0488]), tensor([0.])),\n (tensor([0.6136, 2.1150]), tensor([0.])),\n (tensor([0.6381, 2.1792]), tensor([0.])),\n (tensor([0.6627, 2.2414]), tensor([0.])),\n (tensor([0.6872, 2.3014]), tensor([0.])),\n (tensor([0.7118, 2.3594]), tensor([0.])),\n (tensor([0.7363, 2.4152]), tensor([0.])),\n (tensor([0.7609, 2.4687]), tensor([0.])),\n (tensor([0.7854, 2.5200]), tensor([0.])),\n (tensor([0.8099, 2.5690]), tensor([0.])),\n (tensor([0.8345, 2.6156]), tensor([0.])),\n (tensor([0.8590, 2.6599]), tensor([0.])),\n (tensor([0.8836, 2.7017]), tensor([0.])),\n (tensor([0.9081, 2.7410]), tensor([0.])),\n (tensor([0.9327, 2.7779]), tensor([0.])),\n (tensor([0.9572, 2.8122]), tensor([0.])),\n (tensor([0.9817, 2.8440]), tensor([0.])),\n (tensor([1.0063, 2.8731]), tensor([0.])),\n (tensor([1.0308, 2.8996]), tensor([0.])),\n (tensor([1.0554, 2.9234]), tensor([0.])),\n (tensor([1.0799, 2.9446]), tensor([0.])),\n (tensor([1.1045, 2.9630]), tensor([0.])),\n (tensor([1.1290, 2.9786]), tensor([0.])),\n (tensor([1.1536, 2.9915]), tensor([0.])),\n (tensor([1.1781, 3.0016]), tensor([0.])),\n (tensor([1.2026, 3.0088]), tensor([0.])),\n (tensor([1.2272, 3.0132]), tensor([0.])),\n (tensor([1.2517, 3.0147]), tensor([0.])),\n (tensor([1.2763, 3.0133]), tensor([0.])),\n (tensor([1.3008, 3.0090]), tensor([0.])),\n (tensor([1.3254, 3.0018]), tensor([0.])),\n (tensor([1.3499, 2.9917]), tensor([0.])),\n (tensor([1.3744, 2.9786]), tensor([0.])),\n (tensor([1.3990, 2.9625]), tensor([0.])),\n (tensor([1.4235, 2.9435]), tensor([0.])),\n (tensor([1.4481, 2.9215]), tensor([0.])),\n (tensor([1.4726, 2.8964]), tensor([0.])),\n (tensor([1.4972, 2.8684]), tensor([0.])),\n (tensor([1.5217, 2.8374]), tensor([0.])),\n (tensor([1.5463, 2.8033]), tensor([0.])),\n (tensor([1.5708, 2.7663]), tensor([0.])),\n (tensor([1.5953, 2.7262]), tensor([0.])),\n (tensor([1.6199, 2.6832]), tensor([0.])),\n (tensor([1.6444, 2.6371]), tensor([0.])),\n (tensor([1.6690, 2.5880]), tensor([0.])),\n (tensor([1.6935, 2.5359]), tensor([0.])),\n (tensor([1.7181, 2.4808]), tensor([0.])),\n (tensor([1.7426, 2.4228]), tensor([0.])),\n (tensor([1.7671, 2.3617]), tensor([0.])),\n (tensor([1.7917, 2.2977]), tensor([0.])),\n (tensor([1.8162, 2.2308]), tensor([0.])),\n (tensor([1.8408, 2.1609]), tensor([0.])),\n (tensor([1.8653, 2.0881]), tensor([0.])),\n (tensor([1.8899, 2.0123]), tensor([0.])),\n (tensor([1.9144, 1.9337]), tensor([0.])),\n (tensor([1.9390, 1.8522]), tensor([0.])),\n (tensor([1.9635, 1.7679]), tensor([0.])),\n (tensor([1.9880, 1.6807]), tensor([0.])),\n (tensor([2.0126, 1.5907]), tensor([0.])),\n (tensor([2.0371, 1.4980]), tensor([0.])),\n (tensor([2.0617, 1.4024]), tensor([0.])),\n (tensor([2.0862, 1.3042]), tensor([0.])),\n (tensor([2.1108, 1.2033]), tensor([0.])),\n (tensor([2.1353, 1.0997]), tensor([0.])),\n (tensor([2.1598, 0.9934]), tensor([0.])),\n (tensor([2.1844, 0.8846]), tensor([0.])),\n (tensor([2.2089, 0.7731]), tensor([0.])),\n (tensor([2.2335, 0.6592]), tensor([0.])),\n (tensor([2.2580, 0.5427]), tensor([0.])),\n (tensor([2.2826, 0.4238]), tensor([0.])),\n (tensor([2.3071, 0.3024]), tensor([0.])),\n (tensor([2.3317, 0.1787]), tensor([0.])),\n (tensor([2.3562, 0.0526]), tensor([0.])),\n (tensor([ 2.3807, -0.0758]), tensor([0.])),\n (tensor([ 2.4053, -0.2065]), tensor([0.])),\n (tensor([ 2.4298, -0.3393]), tensor([0.])),\n (tensor([ 2.4544, -0.4744]), tensor([0.])),\n (tensor([ 2.4789, -0.6116]), tensor([0.])),\n (tensor([ 2.5035, -0.7508]), tensor([0.])),\n (tensor([ 2.5280, -0.8922]), tensor([0.])),\n (tensor([ 2.5525, -1.0355]), tensor([0.])),\n (tensor([ 2.5771, -1.1807]), tensor([0.])),\n (tensor([ 2.6016, -1.3278]), tensor([0.])),\n (tensor([ 2.6262, -1.4768]), tensor([0.])),\n (tensor([ 2.6507, -1.6276]), tensor([0.])),\n (tensor([ 2.6753, -1.7801]), tensor([0.])),\n (tensor([ 2.6998, -1.9343]), tensor([0.])),\n (tensor([ 2.7243, -2.0901]), tensor([0.])),\n (tensor([ 2.7489, -2.2475]), tensor([0.])),\n (tensor([ 2.7734, -2.4064]), tensor([0.])),\n (tensor([ 2.7980, -2.5668]), tensor([0.])),\n (tensor([ 2.8225, -2.7286]), tensor([0.])),\n (tensor([ 2.8471, -2.8918]), tensor([0.])),\n (tensor([ 2.8716, -3.0562]), tensor([0.])),\n (tensor([ 2.8962, -3.2219]), tensor([0.])),\n (tensor([ 2.9207, -3.3888]), tensor([0.])),\n (tensor([ 2.9452, -3.5569]), tensor([0.])),\n (tensor([ 2.9698, -3.7260]), tensor([0.])),\n (tensor([ 2.9943, -3.8961]), tensor([0.])),\n (tensor([ 3.0189, -4.0672]), tensor([0.])),\n (tensor([ 3.0434, -4.2391]), tensor([0.])),\n (tensor([ 3.0680, -4.4119]), tensor([0.])),\n (tensor([ 3.0925, -4.5855]), tensor([0.])),\n (tensor([ 3.1170, -4.7598]), tensor([0.])),\n (tensor([ 3.1416, -4.9348]), tensor([0.])),\n (tensor([ 3.1661, -5.1104]), tensor([0.])),\n (tensor([ 3.1907, -5.2865]), tensor([0.])),\n (tensor([ 3.2152, -5.4631]), tensor([0.])),\n (tensor([ 3.2398, -5.6401]), tensor([0.])),\n (tensor([ 3.2643, -5.8175]), tensor([0.])),\n (tensor([ 3.2889, -5.9952]), tensor([0.])),\n (tensor([ 3.3134, -6.1732]), tensor([0.])),\n (tensor([ 3.3379, -6.3513]), tensor([0.])),\n (tensor([ 3.3625, -6.5296]), tensor([0.])),\n (tensor([ 3.3870, -6.7079]), tensor([0.])),\n (tensor([ 3.4116, -6.8863]), tensor([0.])),\n (tensor([ 3.4361, -7.0646]), tensor([0.])),\n (tensor([ 3.4607, -7.2428]), tensor([0.])),\n (tensor([ 3.4852, -7.4209]), tensor([0.])),\n (tensor([ 3.5097, -7.5987]), tensor([0.])),\n (tensor([ 3.5343, -7.7763]), tensor([0.])),\n (tensor([ 3.5588, -7.9536]), tensor([0.])),\n (tensor([ 3.5834, -8.1305]), tensor([0.])),\n (tensor([ 3.6079, -8.3070]), tensor([0.])),\n (tensor([ 3.6325, -8.4830]), tensor([0.])),\n (tensor([ 3.6570, -8.6585]), tensor([0.])),\n (tensor([ 3.6816, -8.8333]), tensor([0.])),\n (tensor([ 3.7061, -9.0076]), tensor([0.])),\n (tensor([ 3.7306, -9.1811]), tensor([0.])),\n (tensor([ 3.7552, -9.3539]), tensor([0.])),\n (tensor([ 3.7797, -9.5260]), tensor([0.])),\n (tensor([ 3.8043, -9.6972]), tensor([0.])),\n (tensor([ 3.8288, -9.8675]), tensor([0.])),\n (tensor([  3.8534, -10.0369]), tensor([0.])),\n (tensor([  3.8779, -10.2053]), tensor([0.])),\n (tensor([  3.9024, -10.3727]), tensor([0.])),\n (tensor([  3.9270, -10.5391]), tensor([0.])),\n (tensor([  3.9515, -10.7043]), tensor([0.])),\n (tensor([  3.9761, -10.8684]), tensor([0.])),\n (tensor([  4.0006, -11.0313]), tensor([0.])),\n (tensor([  4.0252, -11.1930]), tensor([0.])),\n (tensor([  4.0497, -11.3535]), tensor([0.])),\n (tensor([  4.0743, -11.5126]), tensor([0.])),\n (tensor([  4.0988, -11.6704]), tensor([0.])),\n (tensor([  4.1233, -11.8268]), tensor([0.])),\n (tensor([  4.1479, -11.9819]), tensor([0.])),\n (tensor([  4.1724, -12.1355]), tensor([0.])),\n (tensor([  4.1970, -12.2876]), tensor([0.])),\n (tensor([  4.2215, -12.4383]), tensor([0.])),\n (tensor([  4.2461, -12.5874]), tensor([0.])),\n (tensor([  4.2706, -12.7350]), tensor([0.])),\n (tensor([  4.2951, -12.8810]), tensor([0.])),\n (tensor([  4.3197, -13.0254]), tensor([0.])),\n (tensor([  4.3442, -13.1682]), tensor([0.])),\n (tensor([  4.3688, -13.3093]), tensor([0.])),\n (tensor([  4.3933, -13.4487]), tensor([0.])),\n (tensor([  4.4179, -13.5865]), tensor([0.])),\n (tensor([  4.4424, -13.7226]), tensor([0.])),\n (tensor([  4.4670, -13.8570]), tensor([0.])),\n (tensor([  4.4915, -13.9896]), tensor([0.])),\n (tensor([  4.5160, -14.1204]), tensor([0.])),\n (tensor([  4.5406, -14.2496]), tensor([0.])),\n (tensor([  4.5651, -14.3769]), tensor([0.])),\n (tensor([  4.5897, -14.5025]), tensor([0.])),\n (tensor([  4.6142, -14.6262]), tensor([0.])),\n (tensor([  4.6388, -14.7482]), tensor([0.])),\n (tensor([  4.6633, -14.8684]), tensor([0.])),\n (tensor([  4.6878, -14.9867]), tensor([0.])),\n (tensor([  4.7124, -15.1033]), tensor([0.])),\n (tensor([  4.7369, -15.2181]), tensor([0.])),\n (tensor([  4.7615, -15.3310]), tensor([0.])),\n (tensor([  4.7860, -15.4422]), tensor([0.])),\n (tensor([  4.8106, -15.5515]), tensor([0.])),\n (tensor([  4.8351, -15.6590]), tensor([0.])),\n (tensor([  4.8597, -15.7648]), tensor([0.])),\n (tensor([  4.8842, -15.8688]), tensor([0.])),\n (tensor([  4.9087, -15.9710]), tensor([0.])),\n (tensor([  4.9333, -16.0714]), tensor([0.])),\n (tensor([  4.9578, -16.1701]), tensor([0.])),\n (tensor([  4.9824, -16.2671]), tensor([0.])),\n (tensor([  5.0069, -16.3624]), tensor([0.])),\n (tensor([  5.0315, -16.4559]), tensor([0.])),\n (tensor([  5.0560, -16.5477]), tensor([0.])),\n (tensor([  5.0805, -16.6379]), tensor([0.])),\n (tensor([  5.1051, -16.7265]), tensor([0.])),\n (tensor([  5.1296, -16.8134]), tensor([0.])),\n (tensor([  5.1542, -16.8987]), tensor([0.])),\n (tensor([  5.1787, -16.9825]), tensor([0.])),\n (tensor([  5.2033, -17.0647]), tensor([0.])),\n (tensor([  5.2278, -17.1453]), tensor([0.])),\n (tensor([  5.2524, -17.2245]), tensor([0.])),\n (tensor([  5.2769, -17.3022]), tensor([0.])),\n (tensor([  5.3014, -17.3785]), tensor([0.])),\n (tensor([  5.3260, -17.4534]), tensor([0.])),\n (tensor([  5.3505, -17.5269]), tensor([0.])),\n (tensor([  5.3751, -17.5991]), tensor([0.])),\n (tensor([  5.3996, -17.6699]), tensor([0.])),\n (tensor([  5.4242, -17.7396]), tensor([0.])),\n (tensor([  5.4487, -17.8080]), tensor([0.])),\n (tensor([  5.4732, -17.8752]), tensor([0.])),\n (tensor([  5.4978, -17.9413]), tensor([0.])),\n (tensor([  5.5223, -18.0062]), tensor([0.])),\n (tensor([  5.5469, -18.0701]), tensor([0.])),\n (tensor([  5.5714, -18.1330]), tensor([0.])),\n (tensor([  5.5960, -18.1950]), tensor([0.])),\n (tensor([  5.6205, -18.2560]), tensor([0.])),\n (tensor([  5.6450, -18.3161]), tensor([0.])),\n (tensor([  5.6696, -18.3754]), tensor([0.])),\n (tensor([  5.6941, -18.4339]), tensor([0.])),\n (tensor([  5.7187, -18.4916]), tensor([0.])),\n (tensor([  5.7432, -18.5487]), tensor([0.])),\n (tensor([  5.7678, -18.6052]), tensor([0.])),\n (tensor([  5.7923, -18.6610]), tensor([0.])),\n (tensor([  5.8169, -18.7163]), tensor([0.])),\n (tensor([  5.8414, -18.7712]), tensor([0.])),\n (tensor([  5.8659, -18.8256]), tensor([0.])),\n (tensor([  5.8905, -18.8796]), tensor([0.])),\n (tensor([  5.9150, -18.9334]), tensor([0.])),\n (tensor([  5.9396, -18.9868]), tensor([0.])),\n (tensor([  5.9641, -19.0401]), tensor([0.])),\n (tensor([  5.9887, -19.0932]), tensor([0.])),\n (tensor([  6.0132, -19.1462]), tensor([0.])),\n (tensor([  6.0377, -19.1991]), tensor([0.])),\n (tensor([  6.0623, -19.2521]), tensor([0.])),\n (tensor([  6.0868, -19.3051]), tensor([0.])),\n (tensor([  6.1114, -19.3583]), tensor([0.])),\n (tensor([  6.1359, -19.4117]), tensor([0.])),\n (tensor([  6.1605, -19.4653]), tensor([0.])),\n (tensor([  6.1850, -19.5192]), tensor([0.])),\n (tensor([  6.2096, -19.5735]), tensor([0.])),\n (tensor([  6.2341, -19.6283]), tensor([0.])),\n (tensor([  6.2586, -19.6835]), tensor([0.]))]"
     },
     "execution_count": 3,
     "metadata": {},
     "output_type": "execute_result"
    }
   ],
   "source": [
    "train_data_length = 512\n",
    "train_data = tr.ones(train_data_length, 2)\n",
    "train_data[...,0] = tr.arange(-2 * tr.pi , 2 * tr.pi, (4*tr.pi)/train_data_length)\n",
    "train_data[...,1] = 4 * tr.sin(train_data[...,0]) - 1/2 * (train_data[...,0] ** 2)\n",
    "train_dataset = [ (train_data[i], tr.zeros(1) ) for i in range(train_data_length) ]  \n",
    "train_dataset"
   ],
   "metadata": {
    "collapsed": false,
    "ExecuteTime": {
     "end_time": "2024-03-18T19:36:08.222790769Z",
     "start_time": "2024-03-18T19:36:07.875062052Z"
    }
   },
   "id": "d63dde0da40fdcd0",
   "execution_count": 3
  },
  {
   "cell_type": "code",
   "outputs": [
    {
     "data": {
      "text/plain": "<Figure size 500x500 with 1 Axes>",
      "image/png": "[encoded data removed]"
     },
     "metadata": {},
     "output_type": "display_data"
    }
   ],
   "source": [
    "plt.figure(figsize=(5,5))\n",
    "plt.plot(train_data[...,0], train_data[...,1])\n",
    "plt.show()"
   ],
   "metadata": {
    "collapsed": false,
    "ExecuteTime": {
     "end_time": "2024-03-18T19:36:08.362263888Z",
     "start_time": "2024-03-18T19:36:08.192374021Z"
    }
   },
   "id": "c2026e847ef91f41",
   "execution_count": 4
  },
  {
   "cell_type": "code",
   "outputs": [],
   "source": [
    "batch_size = 16\n",
    "train_dataloader = DataLoader(\n",
    "    train_dataset,\n",
    "    batch_size = batch_size,\n",
    "    shuffle=True\n",
    ")"
   ],
   "metadata": {
    "collapsed": false,
    "ExecuteTime": {
     "end_time": "2024-03-18T19:36:08.371672395Z",
     "start_time": "2024-03-18T19:36:08.367390717Z"
    }
   },
   "id": "e938f9ce52380935",
   "execution_count": 5
  },
  {
   "cell_type": "markdown",
   "source": [
    "# Model declaration"
   ],
   "metadata": {
    "collapsed": false
   },
   "id": "786a2b4d39420f36"
  },
  {
   "cell_type": "code",
   "outputs": [],
   "source": [
    "class Discriminator(nn.Module):\n",
    "    def __init__(self):\n",
    "        super().__init__()\n",
    "        self.model = nn.Sequential(\n",
    "            nn.Linear(2, 256),\n",
    "            nn.ReLU(),\n",
    "            nn.Dropout(0.4),\n",
    "            \n",
    "            nn.Linear(256, 128),\n",
    "            nn.ReLU(),\n",
    "            nn.Dropout(0.4),\n",
    "            \n",
    "            nn.Linear(128, 64),\n",
    "            nn.ReLU(),\n",
    "            nn.Dropout(0.4),\n",
    "            \n",
    "            nn.Linear(64, 1),\n",
    "            nn.Sigmoid(),\n",
    "        )\n",
    "\n",
    "    def forward(self, x):\n",
    "        return self.model(x)"
   ],
   "metadata": {
    "collapsed": false,
    "ExecuteTime": {
     "end_time": "2024-03-18T19:36:08.382949046Z",
     "start_time": "2024-03-18T19:36:08.377205936Z"
    }
   },
   "id": "fea08922439c9b74",
   "execution_count": 6
  },
  {
   "cell_type": "code",
   "outputs": [],
   "source": [
    "class Generator(nn.Module):\n",
    "    def __init__(self):\n",
    "        super().__init__()\n",
    "        self.model = nn.Sequential(\n",
    "            nn.Linear(2,16),\n",
    "            nn.ReLU(),\n",
    "            \n",
    "            nn.Linear(16, 32),\n",
    "            nn.ReLU(),\n",
    "\n",
    "            nn.Linear(32, 2),\n",
    "        )\n",
    "    \n",
    "    def forward(self, x):\n",
    "        return self.model(x)"
   ],
   "metadata": {
    "collapsed": false,
    "ExecuteTime": {
     "end_time": "2024-03-18T19:36:08.512112330Z",
     "start_time": "2024-03-18T19:36:08.381560213Z"
    }
   },
   "id": "50f4e8f502f752ce",
   "execution_count": 7
  },
  {
   "cell_type": "markdown",
   "source": [
    "# Training"
   ],
   "metadata": {
    "collapsed": false
   },
   "id": "95aabc1f248bff29"
  },
  {
   "cell_type": "code",
   "outputs": [],
   "source": [
    "G = Generator()\n",
    "D = Discriminator()"
   ],
   "metadata": {
    "collapsed": false,
    "ExecuteTime": {
     "end_time": "2024-03-18T19:36:08.512597594Z",
     "start_time": "2024-03-18T19:36:08.390922794Z"
    }
   },
   "id": "92cc20fb8f1854ee",
   "execution_count": 8
  },
  {
   "cell_type": "code",
   "outputs": [],
   "source": [
    "lr = 8e-5\n",
    "epoch_amount = 100\n",
    "loss = nn.BCELoss()\n",
    "op_D = tr.optim.Adam(\n",
    "    D.parameters(),\n",
    "    lr=lr\n",
    ")\n",
    "op_G = tr.optim.Adam(\n",
    "    G.parameters(),\n",
    "    lr=lr\n",
    ")\n",
    "\n",
    "sch_D = tr.optim.lr_scheduler.CosineAnnealingLR(\n",
    "    op_D,\n",
    "    T_max = 8\n",
    ")\n",
    "sch_G = tr.optim.lr_scheduler.CosineAnnealingLR(\n",
    "    op_G,\n",
    "    T_max = 8\n",
    ")"
   ],
   "metadata": {
    "collapsed": false,
    "ExecuteTime": {
     "end_time": "2024-03-18T19:36:10.080415761Z",
     "start_time": "2024-03-18T19:36:08.400415324Z"
    }
   },
   "id": "2d65fe4f4dd71f19",
   "execution_count": 9
  },
  {
   "cell_type": "markdown",
   "source": [
    "## Stages description\n",
    "- stage 1,2\n",
    "    Discriminator training stage\n",
    "- stage 3,4\n",
    "    Generator training stage\n",
    "- info\n",
    "    Loss function info for Discriminator (should be minimized) and Generator (should be maximized) during training\n",
    "\n"
   ],
   "metadata": {
    "collapsed": false
   },
   "id": "5f559ff3a818d821"
  },
  {
   "cell_type": "code",
   "outputs": [
    {
     "name": "stderr",
     "output_type": "stream",
     "text": [
      "  1%|          | 1/100 [00:00<00:17,  5.73it/s]"
     ]
    },
    {
     "name": "stdout",
     "output_type": "stream",
     "text": [
      "Epoch number: 0 Generator loss: 0.6529932022094727 Discriminator loss: 0.6405336856842041\n"
     ]
    },
    {
     "name": "stderr",
     "output_type": "stream",
     "text": [
      "  6%|▌         | 6/100 [00:01<00:18,  5.17it/s]"
     ]
    },
    {
     "name": "stdout",
     "output_type": "stream",
     "text": [
      "Epoch number: 5 Generator loss: 0.6823387742042542 Discriminator loss: 0.4687511920928955\n"
     ]
    },
    {
     "name": "stderr",
     "output_type": "stream",
     "text": [
      " 11%|█         | 11/100 [00:01<00:14,  6.21it/s]"
     ]
    },
    {
     "name": "stdout",
     "output_type": "stream",
     "text": [
      "Epoch number: 10 Generator loss: 0.771215558052063 Discriminator loss: 0.40863966941833496\n"
     ]
    },
    {
     "name": "stderr",
     "output_type": "stream",
     "text": [
      " 16%|█▌        | 16/100 [00:02<00:13,  6.15it/s]"
     ]
    },
    {
     "name": "stdout",
     "output_type": "stream",
     "text": [
      "Epoch number: 15 Generator loss: 0.9347453713417053 Discriminator loss: 0.3101997375488281\n"
     ]
    },
    {
     "name": "stderr",
     "output_type": "stream",
     "text": [
      " 22%|██▏       | 22/100 [00:03<00:11,  6.98it/s]"
     ]
    },
    {
     "name": "stdout",
     "output_type": "stream",
     "text": [
      "Epoch number: 20 Generator loss: 1.2487692832946777 Discriminator loss: 0.24244515597820282\n"
     ]
    },
    {
     "name": "stderr",
     "output_type": "stream",
     "text": [
      " 26%|██▌       | 26/100 [00:04<00:12,  6.14it/s]"
     ]
    },
    {
     "name": "stdout",
     "output_type": "stream",
     "text": [
      "Epoch number: 25 Generator loss: 1.7327251434326172 Discriminator loss: 0.19865433871746063\n"
     ]
    },
    {
     "name": "stderr",
     "output_type": "stream",
     "text": [
      " 31%|███       | 31/100 [00:04<00:10,  6.81it/s]"
     ]
    },
    {
     "name": "stdout",
     "output_type": "stream",
     "text": [
      "Epoch number: 30 Generator loss: 2.228046417236328 Discriminator loss: 0.16748525202274323\n"
     ]
    },
    {
     "name": "stderr",
     "output_type": "stream",
     "text": [
      " 36%|███▌      | 36/100 [00:05<00:09,  7.04it/s]"
     ]
    },
    {
     "name": "stdout",
     "output_type": "stream",
     "text": [
      "Epoch number: 35 Generator loss: 2.377671241760254 Discriminator loss: 0.060029882937669754\n"
     ]
    },
    {
     "name": "stderr",
     "output_type": "stream",
     "text": [
      " 42%|████▏     | 42/100 [00:06<00:07,  7.30it/s]"
     ]
    },
    {
     "name": "stdout",
     "output_type": "stream",
     "text": [
      "Epoch number: 40 Generator loss: 2.6528160572052 Discriminator loss: 0.1674255132675171\n"
     ]
    },
    {
     "name": "stderr",
     "output_type": "stream",
     "text": [
      " 46%|████▌     | 46/100 [00:07<00:09,  5.59it/s]"
     ]
    },
    {
     "name": "stdout",
     "output_type": "stream",
     "text": [
      "Epoch number: 45 Generator loss: 2.8308324813842773 Discriminator loss: 0.19451145827770233\n"
     ]
    },
    {
     "name": "stderr",
     "output_type": "stream",
     "text": [
      " 51%|█████     | 51/100 [00:07<00:06,  7.18it/s]"
     ]
    },
    {
     "name": "stdout",
     "output_type": "stream",
     "text": [
      "Epoch number: 50 Generator loss: 2.8702139854431152 Discriminator loss: 0.07877276092767715\n"
     ]
    },
    {
     "name": "stderr",
     "output_type": "stream",
     "text": [
      " 57%|█████▋    | 57/100 [00:08<00:06,  6.51it/s]"
     ]
    },
    {
     "name": "stdout",
     "output_type": "stream",
     "text": [
      "Epoch number: 55 Generator loss: 3.0354440212249756 Discriminator loss: 0.24749650061130524\n"
     ]
    },
    {
     "name": "stderr",
     "output_type": "stream",
     "text": [
      " 61%|██████    | 61/100 [00:09<00:06,  5.68it/s]"
     ]
    },
    {
     "name": "stdout",
     "output_type": "stream",
     "text": [
      "Epoch number: 60 Generator loss: 2.938093900680542 Discriminator loss: 0.26467806100845337\n"
     ]
    },
    {
     "name": "stderr",
     "output_type": "stream",
     "text": [
      " 66%|██████▌   | 66/100 [00:10<00:04,  6.84it/s]"
     ]
    },
    {
     "name": "stdout",
     "output_type": "stream",
     "text": [
      "Epoch number: 65 Generator loss: 2.5346975326538086 Discriminator loss: 0.18298038840293884\n"
     ]
    },
    {
     "name": "stderr",
     "output_type": "stream",
     "text": [
      " 71%|███████   | 71/100 [00:11<00:04,  6.04it/s]"
     ]
    },
    {
     "name": "stdout",
     "output_type": "stream",
     "text": [
      "Epoch number: 70 Generator loss: 2.5872247219085693 Discriminator loss: 0.060791097581386566\n"
     ]
    },
    {
     "name": "stderr",
     "output_type": "stream",
     "text": [
      " 76%|███████▌  | 76/100 [00:11<00:03,  6.47it/s]"
     ]
    },
    {
     "name": "stdout",
     "output_type": "stream",
     "text": [
      "Epoch number: 75 Generator loss: 2.5527615547180176 Discriminator loss: 0.1636219620704651\n"
     ]
    },
    {
     "name": "stderr",
     "output_type": "stream",
     "text": [
      " 81%|████████  | 81/100 [00:12<00:02,  6.94it/s]"
     ]
    },
    {
     "name": "stdout",
     "output_type": "stream",
     "text": [
      "Epoch number: 80 Generator loss: 2.2897932529449463 Discriminator loss: 0.3876999020576477\n"
     ]
    },
    {
     "name": "stderr",
     "output_type": "stream",
     "text": [
      " 87%|████████▋ | 87/100 [00:13<00:02,  6.26it/s]"
     ]
    },
    {
     "name": "stdout",
     "output_type": "stream",
     "text": [
      "Epoch number: 85 Generator loss: 2.148698091506958 Discriminator loss: 0.3456282615661621\n"
     ]
    },
    {
     "name": "stderr",
     "output_type": "stream",
     "text": [
      " 92%|█████████▏| 92/100 [00:14<00:01,  7.25it/s]"
     ]
    },
    {
     "name": "stdout",
     "output_type": "stream",
     "text": [
      "Epoch number: 90 Generator loss: 1.9712414741516113 Discriminator loss: 0.3428477346897125\n"
     ]
    },
    {
     "name": "stderr",
     "output_type": "stream",
     "text": [
      " 97%|█████████▋| 97/100 [00:15<00:00,  7.40it/s]"
     ]
    },
    {
     "name": "stdout",
     "output_type": "stream",
     "text": [
      "Epoch number: 95 Generator loss: 1.7427130937576294 Discriminator loss: 0.3379248380661011\n"
     ]
    },
    {
     "name": "stderr",
     "output_type": "stream",
     "text": [
      "100%|██████████| 100/100 [00:15<00:00,  6.40it/s]\n"
     ]
    }
   ],
   "source": [
    "for ep in tqdm(range(epoch_amount)):\n",
    "    for ix, (sample, _) in enumerate(train_dataloader):\n",
    "        #stage 1\n",
    "        sample_labels = tr.ones((batch_size, 1))\n",
    "        latent_space_labels = tr.randn((batch_size, 2))\n",
    "        \n",
    "        G_samples = G(latent_space_labels)\n",
    "        G_samples_labels = tr.zeros((batch_size, 1))\n",
    "        \n",
    "        all_samples = tr.cat(\n",
    "            (sample, G_samples)\n",
    "        )\n",
    "        all_labels = tr.cat(\n",
    "            (sample_labels, G_samples_labels)\n",
    "        )\n",
    "        \n",
    "        #stage 2\n",
    "        D.train()\n",
    "        \n",
    "        D.zero_grad()\n",
    "        out_D = D(all_samples)\n",
    "        loss_D = loss(out_D, all_labels)\n",
    "        loss_D.backward()\n",
    "        op_D.step()\n",
    "        \n",
    "        D.eval()\n",
    "        \n",
    "        #stage 3\n",
    "        latent_space_samples = tr.randn((batch_size, 2))\n",
    "        \n",
    "        #stage 4\n",
    "        G.train()\n",
    "        \n",
    "        G.zero_grad()\n",
    "        G_samples = G(latent_space_samples)\n",
    "        out_D_G = D(G_samples)\n",
    "        loss_G = loss(out_D_G, sample_labels)\n",
    "        loss_G.backward()\n",
    "        op_G.step()\n",
    "        \n",
    "        G.eval()\n",
    "\n",
    "        sch_G.step()\n",
    "        sch_D.step()\n",
    "    \n",
    "        #info\n",
    "        if ep % 5 == 0 and ix == batch_size - 1:\n",
    "            print(\n",
    "                \"Epoch number: {}\".format(ep),\n",
    "                \"Generator loss: {}\".format(loss_G),\n",
    "                \"Discriminator loss: {}\".format(loss_D)\n",
    "            )\n",
    "        "
   ],
   "metadata": {
    "collapsed": false,
    "ExecuteTime": {
     "end_time": "2024-03-18T19:36:25.756303411Z",
     "start_time": "2024-03-18T19:36:10.078027705Z"
    }
   },
   "id": "ea65380b07090e0d",
   "execution_count": 10
  },
  {
   "cell_type": "code",
   "outputs": [
    {
     "data": {
      "text/plain": "<Figure size 640x480 with 2 Axes>",
      "image/png": "[encoded data removed]"
     },
     "metadata": {},
     "output_type": "display_data"
    }
   ],
   "source": [
    "tr.manual_seed(666)\n",
    "fig, ax = plt.subplots(1,2)\n",
    "\n",
    "test_samples = tr.randn(100, 2)\n",
    "\n",
    "# test_samples = tr.ones(train_data_length, 2)\n",
    "# test_samples[...,0] = tr.arange(-2 * tr.pi , 2 * tr.pi, (4*tr.pi)/train_data_length)\n",
    "# test_samples[...,1] = 4 * tr.sin(train_data[...,0]) - 1/2 * (train_data[...,0] ** 2)\n",
    "\n",
    "generation = G(test_samples).detach()\n",
    "\n",
    "ax[0].plot(generation[:, 0], generation[:, 1], \".\")\n",
    "ax[0].set_title(\"Generation\")\n",
    "ax[1].plot(train_data[...,0], train_data[...,1])\n",
    "ax[1].set_title(\"Origin\")\n",
    "plt.show()"
   ],
   "metadata": {
    "collapsed": false,
    "ExecuteTime": {
     "end_time": "2024-03-18T19:40:09.234550852Z",
     "start_time": "2024-03-18T19:40:08.937108432Z"
    }
   },
   "id": "29eff6f3a33eaf5a",
   "execution_count": 13
  }
 ],
 "metadata": {
  "kernelspec": {
   "display_name": "Python 3",
   "language": "python",
   "name": "python3"
  },
  "language_info": {
   "codemirror_mode": {
    "name": "ipython",
    "version": 2
   },
   "file_extension": ".py",
   "mimetype": "text/x-python",
   "name": "python",
   "nbconvert_exporter": "python",
   "pygments_lexer": "ipython2",
   "version": "2.7.6"
  }
 },
 "nbformat": 4,
 "nbformat_minor": 5
}
